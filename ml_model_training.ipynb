{
 "cells": [
  {
   "cell_type": "markdown",
   "id": "norman-choice",
   "metadata": {},
   "source": [
    "# Środowiska uruchomieniowe C3. Streamlit 2.\n",
    "#### Celem tego ćwiczenia jest przedstawienie w uproszczeniu procesu trenowania kilku podstawowych modeli ML. Wykorzystamy  zbiór danych pacjentów. Model będzie miał za zadanie przewidywać, czy pacjent wyzdrowieje po tygodniu."
   ]
  },
  {
   "cell_type": "markdown",
   "id": "7a96f4da",
   "metadata": {},
   "source": [
    "### 1. Import bibliotek"
   ]
  },
  {
   "cell_type": "code",
   "execution_count": 22,
   "id": "tribal-advertising",
   "metadata": {},
   "outputs": [],
   "source": [
    "import pandas as pd\n",
    "import numpy as np\n",
    "import matplotlib as plt\n",
    "import os\n",
    "import matplotlib.pyplot as plt\n",
    "import seaborn as sns\n",
    "import pickle\n",
    "\n",
    "from sklearn.metrics import classification_report\n",
    "from sklearn.preprocessing import LabelEncoder\n",
    "from sklearn.model_selection import train_test_split\n",
    "from sklearn.metrics import accuracy_score\n",
    "\n",
    "from sklearn.ensemble import RandomForestClassifier\n",
    "from sklearn.linear_model import LogisticRegression\n",
    "from sklearn.tree import DecisionTreeClassifier"
   ]
  },
  {
   "cell_type": "markdown",
   "id": "2feb2c32",
   "metadata": {},
   "source": [
    "### 2. Przygotowanie danych do analizy"
   ]
  },
  {
   "cell_type": "code",
   "execution_count": 23,
   "id": "da8589e9",
   "metadata": {},
   "outputs": [
    {
     "data": {
      "text/plain": [
       "'C:\\\\Users\\\\s18581\\\\C3'"
      ]
     },
     "execution_count": 23,
     "metadata": {},
     "output_type": "execute_result"
    }
   ],
   "source": [
    "os.getcwd()"
   ]
  },
  {
   "cell_type": "code",
   "execution_count": 27,
   "id": "forced-reporter",
   "metadata": {},
   "outputs": [],
   "source": [
    "base_data = pd.read_csv(\"dane.csv\", delimiter=\";\");\n",
    "base_data.columns\n",
    "# na tym etapie tworzymy nową zmienną, którą nazywamy base_data, zawierającą nasz zbiór danych\n",
    "\n",
    "cols = [\"objawy\",\"wiek\",\"choroby\",\"wzrost\",\"zdrowie\"]\n",
    "data = base_data[cols].copy()"
   ]
  },
  {
   "cell_type": "code",
   "execution_count": 28,
   "id": "580495c6",
   "metadata": {},
   "outputs": [
    {
     "data": {
      "text/plain": [
       "objawy     False\n",
       "wiek        True\n",
       "choroby    False\n",
       "wzrost      True\n",
       "zdrowie    False\n",
       "dtype: bool"
      ]
     },
     "execution_count": 28,
     "metadata": {},
     "output_type": "execute_result"
    }
   ],
   "source": [
    "data.isnull().any()\n",
    "# sprawdzamy czy mamy jakiekolwiek brakujące dane"
   ]
  },
  {
   "cell_type": "markdown",
   "id": "cf45f631",
   "metadata": {},
   "source": [
    "#### Możemy wygenerować mapę ciepła symbolizującą braki danych - każdy \"pomarańczowy pasek\" to miejsce, w którym jest brak danych"
   ]
  },
  {
   "cell_type": "code",
   "execution_count": 29,
   "id": "1b351179",
   "metadata": {},
   "outputs": [
    {
     "data": {
      "text/plain": [
       "<AxesSubplot:>"
      ]
     },
     "execution_count": 29,
     "metadata": {},
     "output_type": "execute_result"
    },
    {
     "data": {
      "image/png": "[encoded data removed]",
      "text/plain": [
       "<Figure size 432x288 with 1 Axes>"
      ]
     },
     "metadata": {},
     "output_type": "display_data"
    }
   ],
   "source": [
    "sns.heatmap(data.isnull(),yticklabels=False,cbar=False,cmap='viridis')\n",
    "# cbar ustalamy jako false, ponieważ nie wniesie nam to dodatkowych informacji"
   ]
  },
  {
   "cell_type": "markdown",
   "id": "dc2c653f",
   "metadata": {},
   "source": [
    "#### Już po tej prostej wizualizacji widzimy, że mamy dużo przypadków brakujących danych odnoszących się do wieku. Brakujące dane odnośnie wieku możemy zastąpić średnią."
   ]
  },
  {
   "cell_type": "code",
   "execution_count": 118,
   "id": "informed-asian",
   "metadata": {},
   "outputs": [],
   "source": [
    "# Transformations and additions\n",
    "data[\"wiek\"].fillna((data[\"wiek\"].mean()), inplace=True) # wypełni nam brakujące informacje średnią\n",
    "#data[\"wzrost\"].fillna((data[\"wzrost\"].mean()), inplace=True) # wypełni brakujące informacje średnią\n",
    "data = data.dropna() # usunie kolumnę wzrost, która ma brakujące informacje"
   ]
  },
  {
   "cell_type": "code",
   "execution_count": 119,
   "id": "383b630a",
   "metadata": {},
   "outputs": [
    {
     "data": {
      "text/plain": [
       "objawy     False\n",
       "wiek       False\n",
       "choroby    False\n",
       "wzrost     False\n",
       "zdrowie    False\n",
       "dtype: bool"
      ]
     },
     "execution_count": 119,
     "metadata": {},
     "output_type": "execute_result"
    }
   ],
   "source": [
    "data.isnull().any()"
   ]
  },
  {
   "cell_type": "markdown",
   "id": "90c7b885",
   "metadata": {},
   "source": [
    "### 3. Eksploracja danych"
   ]
  },
  {
   "cell_type": "code",
   "execution_count": 32,
   "id": "adbbea3e",
   "metadata": {},
   "outputs": [
    {
     "data": {
      "text/plain": [
       "<AxesSubplot:xlabel='zdrowie', ylabel='count'>"
      ]
     },
     "execution_count": 32,
     "metadata": {},
     "output_type": "execute_result"
    },
    {
     "data": {
      "image/png": "[encoded data removed]",
      "text/plain": [
       "<Figure size 432x288 with 1 Axes>"
      ]
     },
     "metadata": {},
     "output_type": "display_data"
    }
   ],
   "source": [
    "sns.set_style('whitegrid')\n",
    "sns.countplot(x='zdrowie',data=data)\n",
    "# używamy biblioteki seaborn do stworzenia prostego wykresu symbolizującego osoby, które wyzdrowiały (1) i nie wyzdrowiały (0)"
   ]
  },
  {
   "cell_type": "code",
   "execution_count": 36,
   "id": "d211aad2",
   "metadata": {},
   "outputs": [
    {
     "data": {
      "text/plain": [
       "<AxesSubplot:xlabel='zdrowie', ylabel='count'>"
      ]
     },
     "execution_count": 36,
     "metadata": {},
     "output_type": "execute_result"
    },
    {
     "data": {
      "image/png": "[encoded data removed]",
      "text/plain": [
       "<Figure size 432x288 with 1 Axes>"
      ]
     },
     "metadata": {},
     "output_type": "display_data"
    }
   ],
   "source": [
    "sns.set_style('whitegrid')\n",
    "sns.countplot(x='zdrowie',hue='wiek',data=data)\n",
    "# możemy też wygenerować taki wykres, który powie nam więcej o wieku osób, które nie wyzdrowiały (0) bądź wyzdrowiały (1)"
   ]
  },
  {
   "cell_type": "code",
   "execution_count": 35,
   "id": "d362a239",
   "metadata": {},
   "outputs": [
    {
     "data": {
      "text/plain": [
       "<AxesSubplot:xlabel='choroby', ylabel='wiek'>"
      ]
     },
     "execution_count": 35,
     "metadata": {},
     "output_type": "execute_result"
    },
    {
     "data": {
      "image/png": "[encoded data removed]",
      "text/plain": [
       "<Figure size 720x720 with 1 Axes>"
      ]
     },
     "metadata": {},
     "output_type": "display_data"
    }
   ],
   "source": [
    "plt.figure(figsize=(10, 10))\n",
    "sns.boxplot(x='choroby',y='wiek',data=data)\n",
    "# wygenerujemy sobie boxplot, czyli wykres skrzynkowy dla wieku oraz ilości chorób współistniejących"
   ]
  },
  {
   "cell_type": "markdown",
   "id": "5ff38f6b",
   "metadata": {},
   "source": [
    "### 4. Trenowanie modelu"
   ]
  },
  {
   "cell_type": "code",
   "execution_count": 120,
   "id": "banned-rabbit",
   "metadata": {},
   "outputs": [],
   "source": [
    "y = data.iloc[:,4] # zdrowie - zmienna, którą będziemy chcieli przewidzieć\n",
    "x = data.iloc[:,0:4] # zmienne na podstawie, których chcemy przewidzieć (kolumny od 0 do 3 włącznie)\n",
    "X_train, X_test, y_train, y_test = train_test_split(x, y, test_size = 0.2, random_state = 0)\n",
    "# test size odnosi się do liczby obserwacji przeznaczonej do wytrenowania modelu"
   ]
  },
  {
   "cell_type": "code",
   "execution_count": 121,
   "id": "bibliographic-greene",
   "metadata": {},
   "outputs": [
    {
     "name": "stdout",
     "output_type": "stream",
     "text": [
      "Las: 0.9791666666666666\n",
      "Regresja logistyczna: 0.9375\n",
      "Drzewa decyzyjne: 1.0\n"
     ]
    }
   ],
   "source": [
    "def model(X_train, y_train):\n",
    "    \n",
    "    forest = RandomForestClassifier( n_estimators=20, random_state=0)\n",
    "    forest.fit(X_train,y_train)\n",
    "    print(\"Las: {0}\".format(forest.score(X_train,y_train)) )\n",
    "    \n",
    "    lreg =LogisticRegression()\n",
    "    lreg.fit(X_train,y_train)\n",
    "    print(\"Regresja logistyczna: {0}\".format(lreg.score(X_train,y_train)) )\n",
    "  \n",
    "    tree =DecisionTreeClassifier()\n",
    "    tree.fit(X_train,y_train)\n",
    "    print(\"Drzewa decyzyjne: {0}\".format(tree.score(X_train,y_train)) )\n",
    "   \n",
    "    return forest, lreg, tree\n",
    "\n",
    "forest, lreg, tree = model(X_train,y_train)"
   ]
  },
  {
   "cell_type": "code",
   "execution_count": 122,
   "id": "fourth-defensive",
   "metadata": {},
   "outputs": [
    {
     "name": "stdout",
     "output_type": "stream",
     "text": [
      "Random Forest 0.75\n",
      "Logistic Regresion 0.8333333333333334\n",
      "Decision Tree 0.75\n"
     ]
    }
   ],
   "source": [
    "target_names=[\"Nie wyzdrowiał\",\"Wyzdrowiał\"]\n",
    "\n",
    "y1_predict = forest.predict(X_test)\n",
    "print(\"Random Forest {0}\".format(accuracy_score(y_test, y1_predict)))\n",
    "\n",
    "y2_predict = lreg.predict(X_test)\n",
    "print(\"Logistic Regresion {0}\".format(accuracy_score(y_test, y2_predict)))\n",
    "\n",
    "y3_predict = tree.predict(X_test)\n",
    "print(\"Decision Tree {0}\".format(accuracy_score(y_test, y3_predict)))\n",
    "\n",
    "# uzyskujemy dzięki temu informacje dotyczącą dokładności modelu "
   ]
  },
  {
   "cell_type": "code",
   "execution_count": 43,
   "id": "e06003eb",
   "metadata": {},
   "outputs": [
    {
     "name": "stdout",
     "output_type": "stream",
     "text": [
      "Ocena modelu 1. Las\n",
      "              precision    recall  f1-score   support\n",
      "\n",
      "           0       1.00      0.71      0.83         7\n",
      "           1       0.71      1.00      0.83         5\n",
      "\n",
      "    accuracy                           0.83        12\n",
      "   macro avg       0.86      0.86      0.83        12\n",
      "weighted avg       0.88      0.83      0.83        12\n",
      "\n"
     ]
    }
   ],
   "source": [
    "print(\"Ocena modelu 1. Las\")\n",
    "print(classification_report(y_test,y1_predict))\n",
    "# uzyskujemy informację o precyzji, recall, f1, etc.\n",
    "# te wszystkie dane przydadzą się nam do oceny naszego modelu"
   ]
  },
  {
   "cell_type": "markdown",
   "id": "247fc3c3",
   "metadata": {},
   "source": [
    "print(\"Ocena modelu 1. Regresja logistyczna\")\n",
    "print(classification_report(y_test,y2_predict))"
   ]
  },
  {
   "cell_type": "code",
   "execution_count": 44,
   "id": "f24f823c",
   "metadata": {},
   "outputs": [
    {
     "name": "stdout",
     "output_type": "stream",
     "text": [
      "Ocena modelu 1. Drzewa decyzyjne\n",
      "              precision    recall  f1-score   support\n",
      "\n",
      "           0       0.86      0.86      0.86         7\n",
      "           1       0.80      0.80      0.80         5\n",
      "\n",
      "    accuracy                           0.83        12\n",
      "   macro avg       0.83      0.83      0.83        12\n",
      "weighted avg       0.83      0.83      0.83        12\n",
      "\n"
     ]
    }
   ],
   "source": [
    "print(\"Ocena modelu 1. Drzewa decyzyjne\")\n",
    "print(classification_report(y_test,y3_predict))"
   ]
  },
  {
   "cell_type": "markdown",
   "id": "5d26a51b",
   "metadata": {},
   "source": [
    "### 5. Eksport modelu"
   ]
  },
  {
   "cell_type": "markdown",
   "id": "d16c9f76",
   "metadata": {},
   "source": [
    "#### Widzimy, że najlepszymi parametrami cechuje się model pierwszy. Eksportujemy go do pickle."
   ]
  },
  {
   "cell_type": "code",
   "execution_count": 19,
   "id": "168b2ea2",
   "metadata": {},
   "outputs": [],
   "source": [
    "filename = \"model.sv\"\n",
    "pickle.dump(forest, open(filename,'wb'))"
   ]
  },
  {
   "cell_type": "markdown",
   "id": "8c184acd",
   "metadata": {},
   "source": [
    "### 6. Inne"
   ]
  },
  {
   "cell_type": "markdown",
   "id": "28118320",
   "metadata": {},
   "source": [
    "#### Możemy się jeszcze chwilę pobawić i sprawdzić czy np. osoba z klasy pasażerskiej 1, będąca mężczyzną w wieku 50 lat, nieposiadająca innych członków rodziny, itd. przeżyłaby podróż. Odczytujemy wynik i widzimy, że niestety nie przeżyłaby podróży. Do porównania drugi przykład (kobieta w wieku 20 lat) - model podpowiada nam, że ta osoba przeżyłaby podróż."
   ]
  },
  {
   "cell_type": "code",
   "execution_count": 20,
   "id": "3a699a54",
   "metadata": {},
   "outputs": [
    {
     "name": "stderr",
     "output_type": "stream",
     "text": [
      "c:\\users\\s18581\\.conda\\envs\\env\\lib\\site-packages\\sklearn\\base.py:445: UserWarning: X does not have valid feature names, but RandomForestClassifier was fitted with feature names\n",
      "  warnings.warn(\n"
     ]
    },
    {
     "data": {
      "text/plain": [
       "array([0], dtype=int64)"
      ]
     },
     "execution_count": 20,
     "metadata": {},
     "output_type": "execute_result"
    }
   ],
   "source": [
    "my_data =[\n",
    "            [\n",
    "             1,  #\"objawy\"\n",
    "             1,  #\"wiek\", Sex 0 = Female, 1 = Male\n",
    "             50,  #\"choroby\", Age\n",
    "             0,  #\"SibSp\"\n",
    "             0,  #\"Parch\"\n",
    "             0,  #\"Fare\", \n",
    "             2,  #\"Embarked\"\n",
    "    ]\n",
    "]\n",
    "\n",
    "forest.predict(my_data)"
   ]
  },
  {
   "cell_type": "code",
   "execution_count": 21,
   "id": "b15778a4",
   "metadata": {},
   "outputs": [
    {
     "name": "stderr",
     "output_type": "stream",
     "text": [
      "c:\\users\\s18581\\.conda\\envs\\env\\lib\\site-packages\\sklearn\\base.py:445: UserWarning: X does not have valid feature names, but RandomForestClassifier was fitted with feature names\n",
      "  warnings.warn(\n"
     ]
    },
    {
     "data": {
      "text/plain": [
       "array([1], dtype=int64)"
      ]
     },
     "execution_count": 21,
     "metadata": {},
     "output_type": "execute_result"
    }
   ],
   "source": [
    "my_data =[\n",
    "            [\n",
    "             1,  #\"Pclass\"\n",
    "             0,  #\"Sex\", Sex 0 = Female, 1 = Male\n",
    "             20,  #\"Age\", Age\n",
    "             1,  #\"SibSp\"\n",
    "             0,  #\"Parch\"\n",
    "             0,  #\"Fare\", \n",
    "             2,  #\"Embarked\"\n",
    "    ]\n",
    "]\n",
    "\n",
    "forest.predict(my_data)"
   ]
  },
  {
   "cell_type": "markdown",
   "id": "50f653c0",
   "metadata": {},
   "source": [
    "##### Źródło danych [https://www.kaggle.com/c/titanic/](https://www.kaggle.com/c/titanic), zastosowanie przez Adama Ramblinga"
   ]
  },
  {
   "cell_type": "code",
   "execution_count": null,
   "id": "9e7c82d8",
   "metadata": {},
   "outputs": [],
   "source": []
  },
  {
   "cell_type": "code",
   "execution_count": null,
   "id": "4c2304e6",
   "metadata": {},
   "outputs": [],
   "source": []
  }
 ],
 "metadata": {
  "kernelspec": {
   "display_name": "Python 3 (ipykernel)",
   "language": "python",
   "name": "python3"
  },
  "language_info": {
   "codemirror_mode": {
    "name": "ipython",
    "version": 3
   },
   "file_extension": ".py",
   "mimetype": "text/x-python",
   "name": "python",
   "nbconvert_exporter": "python",
   "pygments_lexer": "ipython3",
   "version": "3.8.12"
  }
 },
 "nbformat": 4,
 "nbformat_minor": 5
}
