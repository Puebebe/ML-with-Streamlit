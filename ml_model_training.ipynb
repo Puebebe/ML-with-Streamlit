{
 "cells": [
  {
   "cell_type": "markdown",
   "id": "norman-choice",
   "metadata": {},
   "source": [
    "# Środowiska uruchomieniowe C3. Streamlit 2.\n",
    "#### Celem tego ćwiczenia jest przedstawienie w uproszczeniu procesu trenowania kilku podstawowych modeli ML. Wykorzystamy  zbiór danych pacjentów. Model będzie miał za zadanie przewidywać, czy pacjent wyzdrowieje po tygodniu."
   ]
  },
  {
   "cell_type": "markdown",
   "id": "7a96f4da",
   "metadata": {},
   "source": [
    "### 1. Import bibliotek"
   ]
  },
  {
   "cell_type": "code",
   "execution_count": 3,
   "id": "tribal-advertising",
   "metadata": {},
   "outputs": [],
   "source": [
    "import pandas as pd\n",
    "import numpy as np\n",
    "import matplotlib as plt\n",
    "import os\n",
    "import matplotlib.pyplot as plt\n",
    "import seaborn as sns\n",
    "import pickle\n",
    "\n",
    "from sklearn.metrics import classification_report\n",
    "from sklearn.preprocessing import LabelEncoder\n",
    "from sklearn.model_selection import train_test_split\n",
    "from sklearn.metrics import accuracy_score\n",
    "\n",
    "from sklearn.ensemble import RandomForestClassifier\n",
    "from sklearn.linear_model import LogisticRegression\n",
    "from sklearn.tree import DecisionTreeClassifier"
   ]
  },
  {
   "cell_type": "markdown",
   "id": "2feb2c32",
   "metadata": {},
   "source": [
    "### 2. Przygotowanie danych do analizy"
   ]
  },
  {
   "cell_type": "code",
   "execution_count": 4,
   "id": "da8589e9",
   "metadata": {},
   "outputs": [
    {
     "data": {
      "text/plain": [
       "'C:\\\\Users\\\\Bartek\\\\Desktop\\\\PJATK\\\\7semestr\\\\SUML\\\\PJATK_autoML\\\\C3'"
      ]
     },
     "execution_count": 4,
     "metadata": {},
     "output_type": "execute_result"
    }
   ],
   "source": [
    "os.getcwd()"
   ]
  },
  {
   "cell_type": "code",
   "execution_count": 5,
   "id": "forced-reporter",
   "metadata": {},
   "outputs": [],
   "source": [
    "base_data = pd.read_csv(\"dane.csv\", delimiter=\";\");\n",
    "base_data.columns\n",
    "# na tym etapie tworzymy nową zmienną, którą nazywamy base_data, zawierającą nasz zbiór danych\n",
    "\n",
    "cols = [\"objawy\",\"wiek\",\"choroby\",\"wzrost\",\"zdrowie\"]\n",
    "data = base_data[cols].copy()"
   ]
  },
  {
   "cell_type": "code",
   "execution_count": 6,
   "id": "580495c6",
   "metadata": {},
   "outputs": [
    {
     "data": {
      "text/plain": [
       "objawy     False\n",
       "wiek        True\n",
       "choroby    False\n",
       "wzrost      True\n",
       "zdrowie    False\n",
       "dtype: bool"
      ]
     },
     "execution_count": 6,
     "metadata": {},
     "output_type": "execute_result"
    }
   ],
   "source": [
    "data.isnull().any()\n",
    "# sprawdzamy czy mamy jakiekolwiek brakujące dane"
   ]
  },
  {
   "cell_type": "markdown",
   "id": "cf45f631",
   "metadata": {},
   "source": [
    "#### Możemy wygenerować mapę ciepła symbolizującą braki danych - każdy \"pomarańczowy pasek\" to miejsce, w którym jest brak danych"
   ]
  },
  {
   "cell_type": "code",
   "execution_count": 7,
   "id": "1b351179",
   "metadata": {},
   "outputs": [
    {
     "data": {
      "text/plain": [
       "<AxesSubplot:>"
      ]
     },
     "execution_count": 7,
     "metadata": {},
     "output_type": "execute_result"
    },
    {
     "data": {
      "image/png": "[encoded data removed]",
      "text/plain": [
       "<Figure size 432x288 with 1 Axes>"
      ]
     },
     "metadata": {
      "needs_background": "light"
     },
     "output_type": "display_data"
    }
   ],
   "source": [
    "sns.heatmap(data.isnull(),yticklabels=False,cbar=False,cmap='viridis')\n",
    "# cbar ustalamy jako false, ponieważ nie wniesie nam to dodatkowych informacji"
   ]
  },
  {
   "cell_type": "markdown",
   "id": "dc2c653f",
   "metadata": {},
   "source": [
    "#### Już po tej prostej wizualizacji widzimy, że mamy dużo przypadków brakujących danych odnoszących się do wieku. Brakujące dane odnośnie wieku możemy zastąpić średnią."
   ]
  },
  {
   "cell_type": "code",
   "execution_count": 8,
   "id": "informed-asian",
   "metadata": {},
   "outputs": [],
   "source": [
    "# Transformations and additions\n",
    "data[\"wiek\"].fillna((data[\"wiek\"].mean()), inplace=True) # wypełni nam brakujące informacje średnią\n",
    "#data[\"wzrost\"].fillna((data[\"wzrost\"].mean()), inplace=True) # wypełni brakujące informacje średnią\n",
    "data = data.dropna() # usunie wiersze, które mają brakujące informacje (np. brak wzrostu)"
   ]
  },
  {
   "cell_type": "code",
   "execution_count": 9,
   "id": "383b630a",
   "metadata": {},
   "outputs": [
    {
     "data": {
      "text/plain": [
       "objawy     False\n",
       "wiek       False\n",
       "choroby    False\n",
       "wzrost     False\n",
       "zdrowie    False\n",
       "dtype: bool"
      ]
     },
     "execution_count": 9,
     "metadata": {},
     "output_type": "execute_result"
    }
   ],
   "source": [
    "data.isnull().any()"
   ]
  },
  {
   "cell_type": "markdown",
   "id": "90c7b885",
   "metadata": {},
   "source": [
    "### 3. Eksploracja danych"
   ]
  },
  {
   "cell_type": "code",
   "execution_count": 14,
   "id": "adbbea3e",
   "metadata": {},
   "outputs": [
    {
     "data": {
      "text/plain": [
       "<AxesSubplot:xlabel='zdrowie', ylabel='count'>"
      ]
     },
     "execution_count": 14,
     "metadata": {},
     "output_type": "execute_result"
    },
    {
     "data": {
      "image/png": "[encoded data removed]",
      "text/plain": [
       "<Figure size 432x288 with 1 Axes>"
      ]
     },
     "metadata": {},
     "output_type": "display_data"
    }
   ],
   "source": [
    "sns.set_style('whitegrid')\n",
    "sns.countplot(x='zdrowie',data=data)\n",
    "# używamy biblioteki seaborn do stworzenia prostego wykresu symbolizującego osoby, które wyzdrowiały (0) i nie wyzdrowiały (1)"
   ]
  },
  {
   "cell_type": "code",
   "execution_count": 16,
   "id": "d211aad2",
   "metadata": {},
   "outputs": [
    {
     "data": {
      "text/plain": [
       "<AxesSubplot:xlabel='zdrowie', ylabel='count'>"
      ]
     },
     "execution_count": 16,
     "metadata": {},
     "output_type": "execute_result"
    },
    {
     "data": {
      "image/png": "[encoded data removed]",
      "text/plain": [
       "<Figure size 432x288 with 1 Axes>"
      ]
     },
     "metadata": {},
     "output_type": "display_data"
    }
   ],
   "source": [
    "sns.set_style('whitegrid')\n",
    "sns.countplot(x='zdrowie',hue='wiek',data=data)\n",
    "# możemy też wygenerować taki wykres, który powie nam więcej o wieku osób, które nie wyzdrowiały (1) bądź wyzdrowiały (0)"
   ]
  },
  {
   "cell_type": "code",
   "execution_count": 17,
   "id": "d362a239",
   "metadata": {},
   "outputs": [
    {
     "data": {
      "text/plain": [
       "<AxesSubplot:xlabel='choroby', ylabel='wiek'>"
      ]
     },
     "execution_count": 17,
     "metadata": {},
     "output_type": "execute_result"
    },
    {
     "data": {
      "image/png": "[encoded data removed]",
      "text/plain": [
       "<Figure size 720x720 with 1 Axes>"
      ]
     },
     "metadata": {},
     "output_type": "display_data"
    }
   ],
   "source": [
    "plt.figure(figsize=(10, 10))\n",
    "sns.boxplot(x='choroby',y='wiek',data=data)\n",
    "# wygenerujemy sobie boxplot, czyli wykres skrzynkowy dla wieku oraz ilości chorób współistniejących"
   ]
  },
  {
   "cell_type": "markdown",
   "id": "5ff38f6b",
   "metadata": {},
   "source": [
    "### 4. Trenowanie modelu"
   ]
  },
  {
   "cell_type": "code",
   "execution_count": 18,
   "id": "banned-rabbit",
   "metadata": {},
   "outputs": [],
   "source": [
    "y = data.iloc[:,4] # zdrowie - zmienna, którą będziemy chcieli przewidzieć\n",
    "x = data.iloc[:,0:3] # zmienne na podstawie, których chcemy przewidzieć (kolumny od 0 do 2 włącznie - jednak odrzucamy wzrost jako nieistotny dla rozpoznania stanu pacjenta)\n",
    "X_train, X_test, y_train, y_test = train_test_split(x, y, test_size = 0.5, random_state = 0)\n",
    "# test size odnosi się do liczby obserwacji przeznaczonej do wytrenowania modelu; 0.5 oznacza, że bierzemy połowę zbioru danych"
   ]
  },
  {
   "cell_type": "code",
   "execution_count": 20,
   "id": "bibliographic-greene",
   "metadata": {},
   "outputs": [
    {
     "name": "stdout",
     "output_type": "stream",
     "text": [
      "Las: 1.0\n",
      "Regresja logistyczna: 0.972972972972973\n",
      "Drzewa decyzyjne: 1.0\n"
     ]
    }
   ],
   "source": [
    "def model(X_train, y_train):\n",
    "    \n",
    "    forest = RandomForestClassifier( n_estimators=10, random_state=0)\n",
    "    forest.fit(X_train,y_train)\n",
    "    print(\"Las: {0}\".format(forest.score(X_train,y_train)) )\n",
    "    \n",
    "    lreg = LogisticRegression()\n",
    "    lreg.fit(X_train,y_train)\n",
    "    print(\"Regresja logistyczna: {0}\".format(lreg.score(X_train,y_train)) )\n",
    "  \n",
    "    tree = DecisionTreeClassifier()\n",
    "    tree.fit(X_train,y_train)\n",
    "    print(\"Drzewa decyzyjne: {0}\".format(tree.score(X_train,y_train)) )\n",
    "   \n",
    "    return forest, lreg, tree\n",
    "\n",
    "forest, lreg, tree = model(X_train,y_train)"
   ]
  },
  {
   "cell_type": "code",
   "execution_count": 21,
   "id": "fourth-defensive",
   "metadata": {},
   "outputs": [
    {
     "name": "stdout",
     "output_type": "stream",
     "text": [
      "Random Forest 0.8648648648648649\n",
      "Logistic Regresion 0.8918918918918919\n",
      "Decision Tree 0.7567567567567568\n"
     ]
    }
   ],
   "source": [
    "target_names=[\"Nie wyzdrowiał\",\"Wyzdrowiał\"]\n",
    "\n",
    "y1_predict = forest.predict(X_test)\n",
    "print(\"Random Forest {0}\".format(accuracy_score(y_test, y1_predict)))\n",
    "\n",
    "y2_predict = lreg.predict(X_test)\n",
    "print(\"Logistic Regresion {0}\".format(accuracy_score(y_test, y2_predict)))\n",
    "\n",
    "y3_predict = tree.predict(X_test)\n",
    "print(\"Decision Tree {0}\".format(accuracy_score(y_test, y3_predict)))\n",
    "\n",
    "# uzyskujemy dzięki temu informacje dotyczącą dokładności modelu "
   ]
  },
  {
   "cell_type": "code",
   "execution_count": 22,
   "id": "e06003eb",
   "metadata": {},
   "outputs": [
    {
     "name": "stdout",
     "output_type": "stream",
     "text": [
      "Ocena modelu 1. Las\n",
      "              precision    recall  f1-score   support\n",
      "\n",
      "           0       0.80      1.00      0.89        20\n",
      "           1       1.00      0.71      0.83        17\n",
      "\n",
      "    accuracy                           0.86        37\n",
      "   macro avg       0.90      0.85      0.86        37\n",
      "weighted avg       0.89      0.86      0.86        37\n",
      "\n"
     ]
    }
   ],
   "source": [
    "print(\"Ocena modelu 1. Las\")\n",
    "print(classification_report(y_test,y1_predict))\n",
    "# uzyskujemy informację o precyzji, recall, f1, etc.\n",
    "# te wszystkie dane przydadzą się nam do oceny naszego modelu"
   ]
  },
  {
   "cell_type": "code",
   "execution_count": 23,
   "id": "b61750ff",
   "metadata": {},
   "outputs": [
    {
     "name": "stdout",
     "output_type": "stream",
     "text": [
      "Ocena modelu 2. Regresja logistyczna\n",
      "              precision    recall  f1-score   support\n",
      "\n",
      "           0       0.83      1.00      0.91        20\n",
      "           1       1.00      0.76      0.87        17\n",
      "\n",
      "    accuracy                           0.89        37\n",
      "   macro avg       0.92      0.88      0.89        37\n",
      "weighted avg       0.91      0.89      0.89        37\n",
      "\n"
     ]
    }
   ],
   "source": [
    "print(\"Ocena modelu 2. Regresja logistyczna\")\n",
    "print(classification_report(y_test,y2_predict))"
   ]
  },
  {
   "cell_type": "code",
   "execution_count": 24,
   "id": "f24f823c",
   "metadata": {},
   "outputs": [
    {
     "name": "stdout",
     "output_type": "stream",
     "text": [
      "Ocena modelu 3. Drzewa decyzyjne\n",
      "              precision    recall  f1-score   support\n",
      "\n",
      "           0       0.76      0.80      0.78        20\n",
      "           1       0.75      0.71      0.73        17\n",
      "\n",
      "    accuracy                           0.76        37\n",
      "   macro avg       0.76      0.75      0.75        37\n",
      "weighted avg       0.76      0.76      0.76        37\n",
      "\n"
     ]
    }
   ],
   "source": [
    "print(\"Ocena modelu 3. Drzewa decyzyjne\")\n",
    "print(classification_report(y_test,y3_predict))"
   ]
  },
  {
   "cell_type": "markdown",
   "id": "5d26a51b",
   "metadata": {},
   "source": [
    "### 5. Eksport modelu"
   ]
  },
  {
   "cell_type": "markdown",
   "id": "d16c9f76",
   "metadata": {},
   "source": [
    "#### Widzimy, że najlepszymi parametrami cechuje się model drugi (regresja logistyczna). Eksportujemy go do pickle."
   ]
  },
  {
   "cell_type": "code",
   "execution_count": 25,
   "id": "168b2ea2",
   "metadata": {},
   "outputs": [],
   "source": [
    "filename = \"model.sv\"\n",
    "pickle.dump(lreg, open(filename,'wb'))"
   ]
  },
  {
   "cell_type": "markdown",
   "id": "8c184acd",
   "metadata": {},
   "source": [
    "### 6. Inne"
   ]
  },
  {
   "cell_type": "markdown",
   "id": "28118320",
   "metadata": {},
   "source": [
    "#### Możemy jeszcze chwilę pobawić się i sprawdzić czy np. osoba z 1 objawem, będąca w wieku 20 lat i nieposiadająca chorób współistniejących, powinna wyzdrowieć po tygodniu. Model podpowiada nam, że ten pacjent powinnien być zdrowy po tygodniu.\n",
    "#### Dla porównania drugi przykład (osoba w wieku 76 lat). Odczytujemy wynik i widzimy, że niestety nie przewiduje się jej wyzdrowienia po 7 dniach leczenia."
   ]
  },
  {
   "cell_type": "code",
   "execution_count": 26,
   "id": "3a699a54",
   "metadata": {},
   "outputs": [
    {
     "name": "stdout",
     "output_type": "stream",
     "text": [
      "   objawy  wiek  choroby\n",
      "0       1    20        0\n",
      "Wyzdrowiał\n"
     ]
    }
   ],
   "source": [
    "my_data =[\n",
    "            [\n",
    "             1,  #\"objawy\", liczba objawów przyjmująca wartość od 1 do 5 dla każdego pacjenta\n",
    "             20,  #\"wiek\", wiek pacjenta\n",
    "             0,  #\"choroby\", liczba chorób współistniejących przyjmująca wartość od 0 do 5\n",
    "    ]\n",
    "]\n",
    "\n",
    "df = pd.DataFrame((my_data), columns=['objawy', 'wiek', 'choroby'])\n",
    "print(df)\n",
    "\n",
    "result = lreg.predict(df)\n",
    "\n",
    "if result[0] == 0:\n",
    "    print(target_names[1])\n",
    "elif result[0] == 1:\n",
    "    print(target_names[0])"
   ]
  },
  {
   "cell_type": "code",
   "execution_count": 27,
   "id": "b15778a4",
   "metadata": {},
   "outputs": [
    {
     "name": "stdout",
     "output_type": "stream",
     "text": [
      "   objawy  wiek  choroby\n",
      "0       5    76        5\n",
      "Nie wyzdrowiał\n"
     ]
    }
   ],
   "source": [
    "my_data =[\n",
    "            [\n",
    "             5,  #\"objawy\", liczba objawów przyjmująca wartość od 1 do 5 dla każdego pacjenta\n",
    "             76,  #\"wiek\", wiek pacjenta\n",
    "             5,  #\"choroby\", liczba chorób współistniejących przyjmująca wartość od 0 do 5\n",
    "    ]\n",
    "]\n",
    "\n",
    "df = pd.DataFrame((my_data), columns=['objawy', 'wiek', 'choroby'])\n",
    "print(df)\n",
    "\n",
    "result = lreg.predict(df)\n",
    "\n",
    "if result[0] == 0:\n",
    "    print(target_names[1])\n",
    "elif result[0] == 1:\n",
    "    print(target_names[0])"
   ]
  },
  {
   "cell_type": "markdown",
   "id": "50f653c0",
   "metadata": {},
   "source": [
    "##### Opracowanie na podstawie omówienia przez Wojciecha Oronowicza-Jaśkowiaka [aplikacji](https://github.com/adamsquire/exploring_streamlit_apps) pierwotnie opisanej na blogu [Adam's Ramblings](https://adamsramblings.xyz/blog/exploring-streamlit-for-machine-learning-apps/)\n",
    "##### Źródło danych - [przykładowy zbiór fikcyjnych pacjentów](https://drive.google.com/file/d/16DE3ARyp5L9xKtMHDbB16R5qrTda5G06/view?usp=sharing)"
   ]
  }
 ],
 "metadata": {
  "kernelspec": {
   "display_name": "Python 3 (ipykernel)",
   "language": "python",
   "name": "python3"
  },
  "language_info": {
   "codemirror_mode": {
    "name": "ipython",
    "version": 3
   },
   "file_extension": ".py",
   "mimetype": "text/x-python",
   "name": "python",
   "nbconvert_exporter": "python",
   "pygments_lexer": "ipython3",
   "version": "3.8.12"
  }
 },
 "nbformat": 4,
 "nbformat_minor": 5
}
